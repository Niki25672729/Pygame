{
 "metadata": {
  "name": "",
  "signature": "sha256:9adbf1c48487b37a5f183bac54332aedbf1d96850eb589d7416172d6f188f822"
 },
 "nbformat": 3,
 "nbformat_minor": 0,
 "worksheets": [
  {
   "cells": [
    {
     "cell_type": "code",
     "collapsed": false,
     "input": [
      "import pygame\n",
      "from pygame.locals import *"
     ],
     "language": "python",
     "metadata": {},
     "outputs": [],
     "prompt_number": 2
    },
    {
     "cell_type": "heading",
     "level": 1,
     "metadata": {},
     "source": [
      "\u5efa\u7acb\u8996\u7a97"
     ]
    },
    {
     "cell_type": "code",
     "collapsed": false,
     "input": [
      "pygame.init()    #initialize pygame, preparing for the hardward\n",
      " \n",
      "screen = pygame.display.set_mode((640, 480), 0, 32)    #set the windows\n",
      "pygame.display.set_caption(\"Hello, World\")    #set the title\n",
      "#pygame.mouse.set_visible(False)\n",
      " \n",
      "#background = pygame.image.load(\"y01_0800.jpg\").convert()\n",
      "mouse_cursor = pygame.image.load(\"mouse_image.png\").convert_alpha()    #load and convert the image\n",
      " \n",
      "while True:    #main loap\n",
      " \n",
      "    for event in pygame.event.get():\n",
      "        if event.type == QUIT:    \n",
      "            pygame.quit()    #press the quit button to exit\n",
      " \n",
      "    #screen.blit(background, (0,0))    #draw the background\n",
      "    screen.fill((255, 255, 255))\n",
      " \n",
      "    x, y = pygame.mouse.get_pos()    #get the position of mouse\n",
      "    \n",
      "    #x -= 2\n",
      "    #y -= 44\n",
      "    \n",
      "    screen.blit(mouse_cursor, (x, y))    #draw the mouse\n",
      " \n",
      "    pygame.display.update()\n"
     ],
     "language": "python",
     "metadata": {},
     "outputs": [
      {
       "ename": "error",
       "evalue": "display Surface quit",
       "output_type": "pyerr",
       "traceback": [
        "\u001b[1;31m---------------------------------------------------------------------------\u001b[0m\n\u001b[1;31merror\u001b[0m                                     Traceback (most recent call last)",
        "\u001b[1;32m<ipython-input-2-ee0884aaf6fa>\u001b[0m in \u001b[0;36m<module>\u001b[1;34m()\u001b[0m\n\u001b[0;32m     15\u001b[0m \u001b[1;33m\u001b[0m\u001b[0m\n\u001b[0;32m     16\u001b[0m     \u001b[1;31m#screen.blit(background, (0,0))    #draw the background\u001b[0m\u001b[1;33m\u001b[0m\u001b[1;33m\u001b[0m\u001b[0m\n\u001b[1;32m---> 17\u001b[1;33m     \u001b[0mscreen\u001b[0m\u001b[1;33m.\u001b[0m\u001b[0mfill\u001b[0m\u001b[1;33m(\u001b[0m\u001b[1;33m(\u001b[0m\u001b[1;36m255\u001b[0m\u001b[1;33m,\u001b[0m \u001b[1;36m255\u001b[0m\u001b[1;33m,\u001b[0m \u001b[1;36m255\u001b[0m\u001b[1;33m)\u001b[0m\u001b[1;33m)\u001b[0m\u001b[1;33m\u001b[0m\u001b[0m\n\u001b[0m\u001b[0;32m     18\u001b[0m \u001b[1;33m\u001b[0m\u001b[0m\n\u001b[0;32m     19\u001b[0m     \u001b[0mx\u001b[0m\u001b[1;33m,\u001b[0m \u001b[0my\u001b[0m \u001b[1;33m=\u001b[0m \u001b[0mpygame\u001b[0m\u001b[1;33m.\u001b[0m\u001b[0mmouse\u001b[0m\u001b[1;33m.\u001b[0m\u001b[0mget_pos\u001b[0m\u001b[1;33m(\u001b[0m\u001b[1;33m)\u001b[0m    \u001b[1;31m#get the position of mouse\u001b[0m\u001b[1;33m\u001b[0m\u001b[0m\n",
        "\u001b[1;31merror\u001b[0m: display Surface quit"
       ]
      }
     ],
     "prompt_number": 2
    },
    {
     "cell_type": "markdown",
     "metadata": {},
     "source": [
      "* FULLSCREEN $ \\ \\ $ \u5275\u5efa\u4e00\u500b\u5168\u5c4f\u7a97\u53e3 \n",
      "* DOUBLEBUF $ \\ \\ \\ \\ $ \u5275\u5efa\u4e00\u500b\u201c\u96d9\u7de9\u885d\u201d\u7a97\u53e3\uff0c\u5efa\u8b70\u5728HWSURFACE\u6216\u8005OPENGL\u6642\u4f7f\u7528 \n",
      "* HWSURFACE $ \\ \\ $ \u5275\u5efa\u4e00\u500b\u786c\u4ef6\u52a0\u901f\u7684\u7a97\u53e3\uff0c\u5fc5\u9808\u548cFULLSCREEN\u540c\u6642\u4f7f\u7528 \n",
      "* OPENGL $ \\ \\ \\ \\ \\ \\ \\ \\ \\ \\ $ \u5275\u5efa\u4e00\u500bOPENGL\u6e32\u67d3\u7684\u7a97\u53e3 \n",
      "* RESIZABLE $ \\ \\ \\ \\ \\ $ \u5275\u5efa\u4e00\u500b\u53ef\u4ee5\u6539\u8b8a\u5927\u5c0f\u7684\u7a97\u53e3 \n",
      "* NOFRAME $ \\ \\ \\ \\ \\ \\ \\ $ \u5275\u5efa\u4e00\u500b\u6c92\u6709\u908a\u6846\u7684\u7a97\u53e3 \n"
     ]
    },
    {
     "cell_type": "code",
     "collapsed": false,
     "input": [
      "from time import sleep\n",
      "pygame.init()\n",
      "screen = pygame.display.set_mode((640, 480), 0, 32)\n",
      "\n",
      "while True:\n",
      " \n",
      "    for event in pygame.event.get():\n",
      "        if event.type == QUIT:    \n",
      "            pygame.quit()\n",
      "        print event\n",
      "        sleep(1)\n",
      "\n",
      "    screen.fill((0, 0, 0))\n",
      " \n",
      "    pygame.display.update()\n"
     ],
     "language": "python",
     "metadata": {},
     "outputs": [
      {
       "output_type": "stream",
       "stream": "stdout",
       "text": [
        "<Event(17-VideoExpose {})>\n",
        "<Event(1-ActiveEvent {'state': 1, 'gain': 0})>"
       ]
      },
      {
       "output_type": "stream",
       "stream": "stdout",
       "text": [
        "\n",
        "<Event(4-MouseMotion {'buttons': (0, 0, 0), 'pos': (639, 460), 'rel': (640, 461)})>"
       ]
      },
      {
       "output_type": "stream",
       "stream": "stdout",
       "text": [
        "\n",
        "<Event(2-KeyDown {'scancode': 28, 'key': 13, 'unicode': u'\\r', 'mod': 0})>"
       ]
      },
      {
       "output_type": "stream",
       "stream": "stdout",
       "text": [
        "\n",
        "<Event(3-KeyUp {'scancode': 28, 'key': 13, 'mod': 0})>"
       ]
      },
      {
       "output_type": "stream",
       "stream": "stdout",
       "text": [
        "\n",
        "<Event(2-KeyDown {'scancode': 1, 'key': 27, 'unicode': u'\\x1b', 'mod': 0})>"
       ]
      },
      {
       "output_type": "stream",
       "stream": "stdout",
       "text": [
        "\n",
        "<Event(3-KeyUp {'scancode': 1, 'key': 27, 'mod': 0})>"
       ]
      },
      {
       "output_type": "stream",
       "stream": "stdout",
       "text": [
        "\n",
        "<Event(12-Quit {})>"
       ]
      },
      {
       "output_type": "stream",
       "stream": "stdout",
       "text": [
        "\n"
       ]
      },
      {
       "ename": "error",
       "evalue": "display Surface quit",
       "output_type": "pyerr",
       "traceback": [
        "\u001b[1;31m---------------------------------------------------------------------------\u001b[0m\n\u001b[1;31merror\u001b[0m                                     Traceback (most recent call last)",
        "\u001b[1;32m<ipython-input-3-42a23f350453>\u001b[0m in \u001b[0;36m<module>\u001b[1;34m()\u001b[0m\n\u001b[0;32m     11\u001b[0m         \u001b[0msleep\u001b[0m\u001b[1;33m(\u001b[0m\u001b[1;36m1\u001b[0m\u001b[1;33m)\u001b[0m\u001b[1;33m\u001b[0m\u001b[0m\n\u001b[0;32m     12\u001b[0m \u001b[1;33m\u001b[0m\u001b[0m\n\u001b[1;32m---> 13\u001b[1;33m     \u001b[0mscreen\u001b[0m\u001b[1;33m.\u001b[0m\u001b[0mfill\u001b[0m\u001b[1;33m(\u001b[0m\u001b[1;33m(\u001b[0m\u001b[1;36m0\u001b[0m\u001b[1;33m,\u001b[0m \u001b[1;36m0\u001b[0m\u001b[1;33m,\u001b[0m \u001b[1;36m0\u001b[0m\u001b[1;33m)\u001b[0m\u001b[1;33m)\u001b[0m\u001b[1;33m\u001b[0m\u001b[0m\n\u001b[0m\u001b[0;32m     14\u001b[0m \u001b[1;33m\u001b[0m\u001b[0m\n\u001b[0;32m     15\u001b[0m     \u001b[0mpygame\u001b[0m\u001b[1;33m.\u001b[0m\u001b[0mdisplay\u001b[0m\u001b[1;33m.\u001b[0m\u001b[0mupdate\u001b[0m\u001b[1;33m(\u001b[0m\u001b[1;33m)\u001b[0m\u001b[1;33m\u001b[0m\u001b[0m\n",
        "\u001b[1;31merror\u001b[0m: display Surface quit"
       ]
      }
     ],
     "prompt_number": 3
    },
    {
     "cell_type": "heading",
     "level": 1,
     "metadata": {},
     "source": [
      "\u63a7\u5236\u5716\u5f62\u79fb\u52d5"
     ]
    },
    {
     "cell_type": "code",
     "collapsed": false,
     "input": [
      "pygame.init()\n",
      "screen = pygame.display.set_mode((640, 480), 0, 32)\n",
      "item = pygame.image.load('Ys2_23.ico').convert_alpha()\n",
      "\n",
      "item_x = (screen.get_width() - item.get_width())/2\n",
      "item_y = (screen.get_height() - item.get_height())/2\n",
      "#clock = pygame.time.Clock()\n",
      "#speed = 100\n",
      "\n",
      "while True:\n",
      "    for event in pygame.event.get():\n",
      "        if event.type == QUIT:\n",
      "            pygame.quit()\n",
      "            \n",
      "    #passed_time = clock.tick()\n",
      "    #dis = speed*passed_time\n",
      "    if event.type == KEYDOWN:\n",
      "        #have pressed the keyboard\n",
      "        if event.key == K_LEFT:\n",
      "            item_x -= 1#*dis\n",
      "        if event.key == K_RIGHT:\n",
      "            item_x += 1#*dis\n",
      "        if event.key == K_UP:\n",
      "            item_y -= 1#*dis\n",
      "        if event.key == K_DOWN:\n",
      "            item_y += 1#*dis\n",
      "            \n",
      "\n",
      "    screen.fill((0,0,0))\n",
      "    screen.blit(item, (item_x, item_y))\n",
      "  \n",
      "    pygame.display.update()"
     ],
     "language": "python",
     "metadata": {},
     "outputs": [
      {
       "ename": "error",
       "evalue": "display Surface quit",
       "output_type": "pyerr",
       "traceback": [
        "\u001b[1;31m---------------------------------------------------------------------------\u001b[0m\n\u001b[1;31merror\u001b[0m                                     Traceback (most recent call last)",
        "\u001b[1;32m<ipython-input-11-cc3ed31e169c>\u001b[0m in \u001b[0;36m<module>\u001b[1;34m()\u001b[0m\n\u001b[0;32m     25\u001b[0m \u001b[1;33m\u001b[0m\u001b[0m\n\u001b[0;32m     26\u001b[0m \u001b[1;33m\u001b[0m\u001b[0m\n\u001b[1;32m---> 27\u001b[1;33m     \u001b[0mscreen\u001b[0m\u001b[1;33m.\u001b[0m\u001b[0mfill\u001b[0m\u001b[1;33m(\u001b[0m\u001b[1;33m(\u001b[0m\u001b[1;36m0\u001b[0m\u001b[1;33m,\u001b[0m\u001b[1;36m0\u001b[0m\u001b[1;33m,\u001b[0m\u001b[1;36m0\u001b[0m\u001b[1;33m)\u001b[0m\u001b[1;33m)\u001b[0m\u001b[1;33m\u001b[0m\u001b[0m\n\u001b[0m\u001b[0;32m     28\u001b[0m     \u001b[0mscreen\u001b[0m\u001b[1;33m.\u001b[0m\u001b[0mblit\u001b[0m\u001b[1;33m(\u001b[0m\u001b[0mitem\u001b[0m\u001b[1;33m,\u001b[0m \u001b[1;33m(\u001b[0m\u001b[0mitem_x\u001b[0m\u001b[1;33m,\u001b[0m \u001b[0mitem_y\u001b[0m\u001b[1;33m)\u001b[0m\u001b[1;33m)\u001b[0m\u001b[1;33m\u001b[0m\u001b[0m\n\u001b[0;32m     29\u001b[0m \u001b[1;33m\u001b[0m\u001b[0m\n",
        "\u001b[1;31merror\u001b[0m: display Surface quit"
       ]
      }
     ],
     "prompt_number": 11
    },
    {
     "cell_type": "heading",
     "level": 1,
     "metadata": {},
     "source": [
      "\u986f\u793a\u6587\u5b57"
     ]
    },
    {
     "cell_type": "code",
     "collapsed": false,
     "input": [
      "pygame.init()\n",
      "screen = pygame.display.set_mode((640, 480), 0, 32)\n",
      "\n",
      "font = pygame.font.SysFont(\"simhei\", 40)\n",
      "text_surface = font.render(\"Hello!\", True, (255, 255, 255))\n",
      "#(\u6587\u5b57\u5167\u5bb9, \u958b\u8d77\u6297\u92f8\u9f52, \u5b57\u9ad4\u984f\u8272, \u80cc\u666f\u984f\u8272(\u6c92\u5beb\u5c31\u662f\u900f\u660e))\n",
      "#\u53ea\u80fd\u8655\u7406\u55ae\u884c\n",
      " \n",
      "x = 0\n",
      "y = (480 - text_surface.get_height())/2\n",
      " \n",
      "while True:\n",
      "    for event in pygame.event.get():\n",
      "        if event.type == QUIT:\n",
      "            pygame.quit()\n",
      " \n",
      "    screen.fill((0, 0, 0))\n",
      " \n",
      "    #x -= 0.05\n",
      "    #if x < -text_surface.get_width():\n",
      "    #    x = screen.get_width()\n",
      " \n",
      "    screen.blit(text_surface, (x, y))\n",
      " \n",
      "    pygame.display.update()\n"
     ],
     "language": "python",
     "metadata": {},
     "outputs": [
      {
       "ename": "error",
       "evalue": "display Surface quit",
       "output_type": "pyerr",
       "traceback": [
        "\u001b[1;31m---------------------------------------------------------------------------\u001b[0m\n\u001b[1;31merror\u001b[0m                                     Traceback (most recent call last)",
        "\u001b[1;32m<ipython-input-2-ea8fde1b5f56>\u001b[0m in \u001b[0;36m<module>\u001b[1;34m()\u001b[0m\n\u001b[0;32m     15\u001b[0m             \u001b[0mpygame\u001b[0m\u001b[1;33m.\u001b[0m\u001b[0mquit\u001b[0m\u001b[1;33m(\u001b[0m\u001b[1;33m)\u001b[0m\u001b[1;33m\u001b[0m\u001b[0m\n\u001b[0;32m     16\u001b[0m \u001b[1;33m\u001b[0m\u001b[0m\n\u001b[1;32m---> 17\u001b[1;33m     \u001b[0mscreen\u001b[0m\u001b[1;33m.\u001b[0m\u001b[0mfill\u001b[0m\u001b[1;33m(\u001b[0m\u001b[1;33m(\u001b[0m\u001b[1;36m0\u001b[0m\u001b[1;33m,\u001b[0m \u001b[1;36m0\u001b[0m\u001b[1;33m,\u001b[0m \u001b[1;36m0\u001b[0m\u001b[1;33m)\u001b[0m\u001b[1;33m)\u001b[0m\u001b[1;33m\u001b[0m\u001b[0m\n\u001b[0m\u001b[0;32m     18\u001b[0m \u001b[1;33m\u001b[0m\u001b[0m\n\u001b[0;32m     19\u001b[0m     \u001b[0mx\u001b[0m \u001b[1;33m-=\u001b[0m \u001b[1;36m0.05\u001b[0m  \u001b[1;31m# \u6587\u5b57\u6efe\u52d5\u592a\u5feb\u7684\u8bdd\uff0c\u6539\u6539\u9019\u500b\u6578\u5b57  \u8d8a\u5927\u8d8a\u5feb\u001b[0m\u001b[1;33m\u001b[0m\u001b[0m\n",
        "\u001b[1;31merror\u001b[0m: display Surface quit"
       ]
      }
     ],
     "prompt_number": 2
    },
    {
     "cell_type": "code",
     "collapsed": false,
     "input": [
      "#pygame.font.get_fonts()\n",
      "#\u5c0b\u627e\u5b57\u9ad4"
     ],
     "language": "python",
     "metadata": {},
     "outputs": [],
     "prompt_number": 2
    },
    {
     "cell_type": "heading",
     "level": 1,
     "metadata": {},
     "source": [
      "\u756b\u9762\u5207\u5272"
     ]
    },
    {
     "cell_type": "markdown",
     "metadata": {},
     "source": [
      "set_clip(x\u5ea7\u6a19, y\u5ea7\u6a19, \u5bec, \u9ad8)"
     ]
    },
    {
     "cell_type": "code",
     "collapsed": false,
     "input": [
      "import pygame\n",
      "from pygame.locals import *\n",
      "\n",
      "pygame.init()\n",
      "screen = pygame.display.set_mode((640, 480), 0, 32)\n",
      "background = pygame.image.load(\"y01_0800.jpg\").convert()\n",
      "item = pygame.image.load('Ys2_23.ico').convert_alpha()\n",
      "\n",
      "item_x = (screen.get_width() - item.get_width())/2\n",
      "item_y = (screen.get_height() - item.get_height())/2\n",
      "\n",
      "font = pygame.font.SysFont(\"simhei\", 40)\n",
      "text_surface = font.render(\"Hello!\", True, (255, 255, 255))\n",
      " \n",
      "x = 0\n",
      "y = 0\n",
      " \n",
      "\n",
      "while True:\n",
      "    #\u4e0a\u9762\u653e\u8dd1\u99ac\u71c8\n",
      "    screen.set_clip(0, 0, 640, 45)\n",
      "    x -= 0.05\n",
      "    if x < -text_surface.get_width():\n",
      "        x = screen.get_width()\n",
      "    screen.fill((0, 0, 0))\n",
      "    screen.blit(text_surface, (x, y))\n",
      "    pygame.display.update()\n",
      "    \n",
      "    #\u4e0b\u9762\u63a7\u5236\u7269\u4ef6\n",
      "    screen.set_clip(0, 45, 640, 435)\n",
      "    for event in pygame.event.get():\n",
      "        if event.type == QUIT:\n",
      "            pygame.quit()    \n",
      "    if event.type == KEYDOWN:\n",
      "        #have pressed the keyboard\n",
      "        if event.key == K_LEFT:\n",
      "            item_x -= 1\n",
      "        if event.key == K_RIGHT:\n",
      "            item_x += 1\n",
      "        if event.key == K_UP:\n",
      "            item_y -= 1\n",
      "        if event.key == K_DOWN:\n",
      "            item_y += 1\n",
      "    screen.blit(background, (0, 45)) \n",
      "    screen.blit(item, (item_x, item_y))\n",
      "  \n",
      "    pygame.display.update()"
     ],
     "language": "python",
     "metadata": {},
     "outputs": [
      {
       "ename": "error",
       "evalue": "display Surface quit",
       "output_type": "pyerr",
       "traceback": [
        "\u001b[1;31m---------------------------------------------------------------------------\u001b[0m\n\u001b[1;31merror\u001b[0m                                     Traceback (most recent call last)",
        "\u001b[1;32m<ipython-input-1-e09f8b190f88>\u001b[0m in \u001b[0;36m<module>\u001b[1;34m()\u001b[0m\n\u001b[0;32m     42\u001b[0m         \u001b[1;32mif\u001b[0m \u001b[0mevent\u001b[0m\u001b[1;33m.\u001b[0m\u001b[0mkey\u001b[0m \u001b[1;33m==\u001b[0m \u001b[0mK_DOWN\u001b[0m\u001b[1;33m:\u001b[0m\u001b[1;33m\u001b[0m\u001b[0m\n\u001b[0;32m     43\u001b[0m             \u001b[0mitem_y\u001b[0m \u001b[1;33m+=\u001b[0m \u001b[1;36m1\u001b[0m\u001b[1;33m\u001b[0m\u001b[0m\n\u001b[1;32m---> 44\u001b[1;33m     \u001b[0mscreen\u001b[0m\u001b[1;33m.\u001b[0m\u001b[0mblit\u001b[0m\u001b[1;33m(\u001b[0m\u001b[0mbackground\u001b[0m\u001b[1;33m,\u001b[0m \u001b[1;33m(\u001b[0m\u001b[1;36m0\u001b[0m\u001b[1;33m,\u001b[0m \u001b[1;36m45\u001b[0m\u001b[1;33m)\u001b[0m\u001b[1;33m)\u001b[0m\u001b[1;33m\u001b[0m\u001b[0m\n\u001b[0m\u001b[0;32m     45\u001b[0m     \u001b[0mscreen\u001b[0m\u001b[1;33m.\u001b[0m\u001b[0mblit\u001b[0m\u001b[1;33m(\u001b[0m\u001b[0mitem\u001b[0m\u001b[1;33m,\u001b[0m \u001b[1;33m(\u001b[0m\u001b[0mitem_x\u001b[0m\u001b[1;33m,\u001b[0m \u001b[0mitem_y\u001b[0m\u001b[1;33m)\u001b[0m\u001b[1;33m)\u001b[0m\u001b[1;33m\u001b[0m\u001b[0m\n\u001b[0;32m     46\u001b[0m \u001b[1;33m\u001b[0m\u001b[0m\n",
        "\u001b[1;31merror\u001b[0m: display Surface quit"
       ]
      }
     ],
     "prompt_number": 1
    },
    {
     "cell_type": "code",
     "collapsed": false,
     "input": [
      "from time import sleep\n",
      "pygame.init()\n",
      "screen = pygame.display.set_mode((500, 500), 0, 32)\n",
      "pos = []\n",
      "while True:\n",
      " \n",
      "    \n",
      "    for event in pygame.event.get():\n",
      "        \n",
      "        if event.type == QUIT:  \n",
      "            print pos\n",
      "            pygame.quit()\n",
      "        #print event\n",
      "        if event.type == MOUSEMOTION:\n",
      "            if event.dict['buttons'] == (1, 0, 0):\n",
      "                x, y = event.dict['pos']\n",
      "                pos.append([x, y])\n",
      "        elif (event.type == MOUSEBUTTONDOWN) | (event.type == MOUSEBUTTONUP):\n",
      "            if event.dict['button'] == 1:\n",
      "                x, y = event.dict['pos']\n",
      "                pos.append([x, y])\n",
      "        sleep(0.1)\n",
      "\n",
      "    screen.fill((0, 0, 0))\n",
      " \n",
      "    pygame.display.update()"
     ],
     "language": "python",
     "metadata": {},
     "outputs": [
      {
       "output_type": "stream",
       "stream": "stdout",
       "text": [
        "[]\n"
       ]
      },
      {
       "ename": "error",
       "evalue": "display Surface quit",
       "output_type": "pyerr",
       "traceback": [
        "\u001b[1;31m---------------------------------------------------------------------------\u001b[0m\n\u001b[1;31merror\u001b[0m                                     Traceback (most recent call last)",
        "\u001b[1;32m<ipython-input-31-76a112885899>\u001b[0m in \u001b[0;36m<module>\u001b[1;34m()\u001b[0m\n\u001b[0;32m     22\u001b[0m         \u001b[0msleep\u001b[0m\u001b[1;33m(\u001b[0m\u001b[1;36m0.1\u001b[0m\u001b[1;33m)\u001b[0m\u001b[1;33m\u001b[0m\u001b[0m\n\u001b[0;32m     23\u001b[0m \u001b[1;33m\u001b[0m\u001b[0m\n\u001b[1;32m---> 24\u001b[1;33m     \u001b[0mscreen\u001b[0m\u001b[1;33m.\u001b[0m\u001b[0mfill\u001b[0m\u001b[1;33m(\u001b[0m\u001b[1;33m(\u001b[0m\u001b[1;36m0\u001b[0m\u001b[1;33m,\u001b[0m \u001b[1;36m0\u001b[0m\u001b[1;33m,\u001b[0m \u001b[1;36m0\u001b[0m\u001b[1;33m)\u001b[0m\u001b[1;33m)\u001b[0m\u001b[1;33m\u001b[0m\u001b[0m\n\u001b[0m\u001b[0;32m     25\u001b[0m \u001b[1;33m\u001b[0m\u001b[0m\n\u001b[0;32m     26\u001b[0m     \u001b[0mpygame\u001b[0m\u001b[1;33m.\u001b[0m\u001b[0mdisplay\u001b[0m\u001b[1;33m.\u001b[0m\u001b[0mupdate\u001b[0m\u001b[1;33m(\u001b[0m\u001b[1;33m)\u001b[0m\u001b[1;33m\u001b[0m\u001b[0m\n",
        "\u001b[1;31merror\u001b[0m: display Surface quit"
       ]
      }
     ],
     "prompt_number": 31
    },
    {
     "cell_type": "code",
     "collapsed": false,
     "input": [],
     "language": "python",
     "metadata": {},
     "outputs": []
    }
   ],
   "metadata": {}
  }
 ]
}